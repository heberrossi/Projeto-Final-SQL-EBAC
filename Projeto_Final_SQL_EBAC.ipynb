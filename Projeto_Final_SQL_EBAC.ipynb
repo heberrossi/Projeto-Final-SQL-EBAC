{
  "cells": [
    {
      "cell_type": "markdown",
      "id": "90660233",
      "metadata": {
        "id": "90660233"
      },
      "source": [
        "# **Exploração e análise de dados de crédito com SQL**\n",
        "Esse notebook faz parte do curso SQL para análise de dados da EBAC."
      ]
    },
    {
      "cell_type": "markdown",
      "id": "423c0a44",
      "metadata": {
        "id": "423c0a44"
      },
      "source": [
        "### Os dados:\n",
        "#### Os dados representam informações de clientes de um banco e contam com as seguintes colunas:\n",
        "\n",
        "* idade = idade do cliente\n",
        "* sexo = sexo do cliente (F ou M)\n",
        "* dependentes = número de dependentes do cliente\n",
        "* escolaridade = nível de escolaridade do clientes\n",
        "* salario_anual = faixa salarial do cliente\n",
        "* tipo_cartao = tipo de cartao do cliente\n",
        "* qtd_produtos = quantidade de produtos comprados nos últimos 12 meses\n",
        "* iteracoes_12m = quantidade de iterações/transacoes nos ultimos 12 meses\n",
        "* meses_inativo_12m = quantidade de meses que o cliente ficou inativo\n",
        "* limite_credito = limite de credito do cliente\n",
        "* valor_transacoes_12m = valor das transações dos ultimos 12 meses\n",
        "* qtd_transacoes_12m = quantidade de transacoes dos ultimos 12 meses\n",
        "\n",
        "A tabela foi criada no AWS Athena junto com o S3 Bucket com uma versão dos dados disponibilizados em: https://github.com/andre-marcos-perez/ebac-course-utils/tree/main/dataset\n",
        "\n",
        "É importante destacar que pode haver discrepâncias nas proporções das categorias nesta amostra parcial em relação ao conjunto de dados original. Essa subamostra foi extraída com o objetivo de facilitar o processamento dos dados para o projeto em questão.\n",
        "\n",
        "É válido ressaltar que as estimativas baseadas nesse conjunto de dados podem apresentar menor precisão em comparação com a amostra completa. Portanto, os resultados aqui apresentados não possuem a mesma fidelidade de uma análise realizada com o dataset completo."
      ]
    },
    {
      "cell_type": "markdown",
      "source": [],
      "metadata": {
        "id": "KquhnzXuiOd0"
      },
      "id": "KquhnzXuiOd0"
    },
    {
      "cell_type": "markdown",
      "id": "5379171c",
      "metadata": {
        "id": "5379171c"
      },
      "source": [
        "## Exploração de Dados"
      ]
    },
    {
      "cell_type": "markdown",
      "id": "1951f680",
      "metadata": {
        "id": "1951f680"
      },
      "source": [
        "Vamos analisar e entender o que tem no nosso banco de dados:"
      ]
    },
    {
      "cell_type": "markdown",
      "id": "1012b582",
      "metadata": {
        "id": "1012b582"
      },
      "source": [
        "### Quantidade de linhas no banco de dados"
      ]
    },
    {
      "cell_type": "markdown",
      "id": "9085a92e",
      "metadata": {
        "id": "9085a92e"
      },
      "source": [
        "<img src=\"https://github.com/heberrossi/Projeto-Final-SQL-EBAC/blob/main/projeto%20credito%20SQL/qtd%20de%20linhas.PNG?raw=true\" alt=\"qtd linhas\" style=\"float: left; margin-right: 10px;\" />"
      ]
    },
    {
      "cell_type": "markdown",
      "id": "df64377b",
      "metadata": {
        "id": "df64377b"
      },
      "source": [
        "**Query**: SELECT count(*) FROM credito"
      ]
    },
    {
      "cell_type": "markdown",
      "id": "22f2fe0b",
      "metadata": {
        "id": "22f2fe0b"
      },
      "source": [
        "> **ps**.: A base de dados do link acima contém mais linhas do que a seleção utilizada, mas foi optado pela redução de dados para análise para fins de estudos."
      ]
    },
    {
      "cell_type": "markdown",
      "id": "d6b4a781",
      "metadata": {
        "id": "d6b4a781"
      },
      "source": [
        "### Visão geral dos dados"
      ]
    },
    {
      "cell_type": "markdown",
      "id": "8bfa7b9c",
      "metadata": {
        "id": "8bfa7b9c"
      },
      "source": [
        "<img src=\"https://github.com/heberrossi/Projeto-Final-SQL-EBAC/blob/main/projeto%20credito%20SQL/vis%C3%A3o%20geral%20dos%20dados.PNG?raw=true\" alt=\"qtd linhas\" style=\"float: left; margin-right: 10px;\" />"
      ]
    },
    {
      "cell_type": "markdown",
      "id": "da2da67e",
      "metadata": {
        "id": "da2da67e"
      },
      "source": [
        "**Query**: SELECT * FROM credito LIMIT 10;"
      ]
    },
    {
      "cell_type": "markdown",
      "id": "efd30c3c",
      "metadata": {
        "id": "efd30c3c"
      },
      "source": [
        "> É observável que existem dados nulos ('NA') no banco de dados."
      ]
    },
    {
      "cell_type": "markdown",
      "id": "03e0657c",
      "metadata": {
        "id": "03e0657c"
      },
      "source": [
        "### Tipos de cada dado"
      ]
    },
    {
      "cell_type": "markdown",
      "id": "fbf8e6ac",
      "metadata": {
        "id": "fbf8e6ac"
      },
      "source": [
        "<img src=\"https://github.com/heberrossi/Projeto-Final-SQL-EBAC/blob/main/projeto%20credito%20SQL/descri%C3%A7%C3%A3o%20dos%20dados.PNG?raw=true\" alt=\"qtd linhas\" style=\"float: left; margin-right: 10px;\" />"
      ]
    },
    {
      "cell_type": "markdown",
      "id": "3778f9f7",
      "metadata": {
        "id": "3778f9f7"
      },
      "source": [
        "**Query**: DESCRIBE credito"
      ]
    },
    {
      "cell_type": "markdown",
      "id": "86df8986",
      "metadata": {
        "id": "86df8986"
      },
      "source": [
        "> Temos o total de 13 tipos de dados, variando em strings, int e float."
      ]
    },
    {
      "cell_type": "markdown",
      "id": "ab736d83",
      "metadata": {
        "id": "ab736d83"
      },
      "source": [
        "### Vamos dar uma olhada nos dados não numéricos, e ver o que podemos encontrar"
      ]
    },
    {
      "cell_type": "markdown",
      "id": "fce44b6d",
      "metadata": {
        "id": "fce44b6d"
      },
      "source": [
        "### Dados não numéricos"
      ]
    },
    {
      "cell_type": "markdown",
      "id": "e0108810",
      "metadata": {
        "id": "e0108810"
      },
      "source": [
        "#### Escolaridade"
      ]
    },
    {
      "cell_type": "markdown",
      "id": "8c683657",
      "metadata": {
        "id": "8c683657"
      },
      "source": [
        "<img src=\"https://github.com/heberrossi/Projeto-Final-SQL-EBAC/blob/main/projeto%20credito%20SQL/dados%20unicos%20e%20valores%20nulos/dados%20unicos%20e%20valores%20nulos%20-%20escolaridade.PNG?raw=true\" alt=\"qtd linhas\" style=\"float: left; margin-right: 10px;\" />"
      ]
    },
    {
      "cell_type": "markdown",
      "id": "4f46c6b4",
      "metadata": {
        "id": "4f46c6b4"
      },
      "source": [
        "**Query**: SELECT DISTINCT escolaridade FROM credito"
      ]
    },
    {
      "cell_type": "markdown",
      "id": "f5986f8a",
      "metadata": {
        "id": "f5986f8a"
      },
      "source": [
        "> Há dados nulos em escolaridade"
      ]
    },
    {
      "cell_type": "markdown",
      "id": "d265bbf2",
      "metadata": {
        "id": "d265bbf2"
      },
      "source": [
        "#### Estado Civil"
      ]
    },
    {
      "cell_type": "markdown",
      "id": "4db2d968",
      "metadata": {
        "id": "4db2d968"
      },
      "source": [
        "<img src=\"https://github.com/heberrossi/Projeto-Final-SQL-EBAC/blob/main/projeto%20credito%20SQL/dados%20unicos%20e%20valores%20nulos/dados%20unicos%20e%20valores%20nulos%20-%20estado%20civil.PNG?raw=true\" alt=\"qtd linhas\" style=\"float: left; margin-right: 10px;\" />"
      ]
    },
    {
      "cell_type": "markdown",
      "id": "3b03db1d",
      "metadata": {
        "id": "3b03db1d"
      },
      "source": [
        "**Query**: SELECT DISTINCT estado_civil FROM credito"
      ]
    },
    {
      "cell_type": "markdown",
      "id": "5650b881",
      "metadata": {
        "id": "5650b881"
      },
      "source": [
        "> Há dados nulos em estado civil"
      ]
    },
    {
      "cell_type": "markdown",
      "id": "bcabdfa6",
      "metadata": {
        "id": "bcabdfa6"
      },
      "source": [
        "#### Salário Anual"
      ]
    },
    {
      "cell_type": "markdown",
      "id": "cf7ce150",
      "metadata": {
        "id": "cf7ce150"
      },
      "source": [
        "<img src=\"https://github.com/heberrossi/Projeto-Final-SQL-EBAC/blob/main/projeto%20credito%20SQL/dados%20unicos%20e%20valores%20nulos/dados%20unicos%20e%20valores%20nulos%20-%20salario%20anual.PNG?raw=true\" alt=\"qtd linhas\" style=\"float: left; margin-right: 10px;\" />"
      ]
    },
    {
      "cell_type": "markdown",
      "id": "d88d93d5",
      "metadata": {
        "id": "d88d93d5"
      },
      "source": [
        "**Query**: SELECT DISTINCT salario_anual FROM credito"
      ]
    },
    {
      "cell_type": "markdown",
      "id": "5168f090",
      "metadata": {
        "id": "5168f090"
      },
      "source": [
        "> Há dados nulos em salario anual. Vale ressaltar que ele mostra apenas a faixa de salário, não salário exato"
      ]
    },
    {
      "cell_type": "markdown",
      "id": "63648446",
      "metadata": {
        "id": "63648446"
      },
      "source": [
        "#### Tipo de cartão"
      ]
    },
    {
      "cell_type": "markdown",
      "id": "5712a1e9",
      "metadata": {
        "id": "5712a1e9"
      },
      "source": [
        "<img src=\"https://github.com/heberrossi/Projeto-Final-SQL-EBAC/blob/main/projeto%20credito%20SQL/dados%20unicos%20e%20valores%20nulos/dados%20unicos%20e%20valores%20nulos%20-%20tipo%20cartao.PNG?raw=true\" alt=\"qtd linhas\" style=\"float: left; margin-right: 10px;\" />"
      ]
    },
    {
      "cell_type": "markdown",
      "id": "866d58a3",
      "metadata": {
        "id": "866d58a3"
      },
      "source": [
        "**Query**: SELECT DISTINCT tipo_cartao FROM credito"
      ]
    },
    {
      "cell_type": "markdown",
      "id": "de30f981",
      "metadata": {
        "id": "de30f981"
      },
      "source": [
        "> Nesse não há dados nulos"
      ]
    },
    {
      "cell_type": "markdown",
      "id": "d2abe622",
      "metadata": {
        "id": "d2abe622"
      },
      "source": [
        "## Análise de Dados"
      ]
    },
    {
      "cell_type": "markdown",
      "id": "1b2ac679",
      "metadata": {
        "id": "1b2ac679"
      },
      "source": [
        "> Agora que temos uma visão geral do que é o banco de dados, vamos partir para análise mais profunda e entender um pouco mais sobre eles. Faremos diversas análises e observações durante esse processo"
      ]
    },
    {
      "cell_type": "markdown",
      "id": "78971910",
      "metadata": {
        "id": "78971910"
      },
      "source": [
        "### Quantidade de Clientes por faixa de salário anual"
      ]
    },
    {
      "cell_type": "markdown",
      "id": "806f0e8e",
      "metadata": {
        "id": "806f0e8e"
      },
      "source": [
        "<img src=\"https://github.com/heberrossi/Projeto-Final-SQL-EBAC/blob/main/projeto%20credito%20SQL/qtd%20de%20clientes%20por%20faixa%20de%20sal%C3%A1rio%20anual.PNG?raw=true\" alt=\"qtd linhas\" style=\"float: left; margin-right: 10px;\" />"
      ]
    },
    {
      "cell_type": "markdown",
      "id": "ece04233",
      "metadata": {
        "id": "ece04233"
      },
      "source": [
        "**Query**: select count(*), salario_anual from credito group by salario_anual"
      ]
    },
    {
      "cell_type": "markdown",
      "id": "79960eec",
      "metadata": {
        "id": "79960eec"
      },
      "source": [
        "> Rapidamente percebemos que a maior concentração está na menor faixa de salário anual, e possuem 235 pessoas que não informação. Pode ser de interesse focar nas pessoas de salário anual mais baixo por ser a maioria"
      ]
    },
    {
      "cell_type": "markdown",
      "id": "4d9bf810",
      "metadata": {
        "id": "4d9bf810"
      },
      "source": [
        "### Quantidade de clientes por tipo de cartão"
      ]
    },
    {
      "cell_type": "markdown",
      "id": "fcd20a73",
      "metadata": {
        "id": "fcd20a73"
      },
      "source": [
        "<img src=\"https://github.com/heberrossi/Projeto-Final-SQL-EBAC/blob/main/projeto%20credito%20SQL/qtd%20de%20clientes%20por%20tipo%20de%20cart%C3%A3o.PNG?raw=true\" alt=\"qtd linhas\" style=\"float: left; margin-right: 10px;\" />"
      ]
    },
    {
      "cell_type": "markdown",
      "id": "0a8e6925",
      "metadata": {
        "id": "0a8e6925"
      },
      "source": [
        "**Query**: select count(*), tipo_cartao from credito group by tipo_cartao"
      ]
    },
    {
      "cell_type": "markdown",
      "id": "d549239b",
      "metadata": {
        "id": "d549239b"
      },
      "source": [
        "> Aqui observamos a gigantesca quantidade de clientes BLUE. Será que talvez falta uma campanha para oferecer cartões com mais vantagens e limites? Veremos com o decorrer da análise"
      ]
    },
    {
      "cell_type": "markdown",
      "id": "f5b1fc80",
      "metadata": {
        "id": "f5b1fc80"
      },
      "source": [
        "### Idade média por sexo"
      ]
    },
    {
      "cell_type": "markdown",
      "id": "c3b64f48",
      "metadata": {
        "id": "c3b64f48"
      },
      "source": [
        "<img src=\"https://github.com/heberrossi/Projeto-Final-SQL-EBAC/blob/main/projeto%20credito%20SQL/idade%20m%C3%A9dia%20por%20sexo.PNG?raw=true\" alt=\"qtd linhas\" style=\"float: left; margin-right: 10px;\" />"
      ]
    },
    {
      "cell_type": "markdown",
      "id": "f8694561",
      "metadata": {
        "id": "f8694561"
      },
      "source": [
        "**Query**: select avg(idade) as media_idade, min(idade) as min_idade, max(idade) as max_idade, sexo from credito group by sexo"
      ]
    },
    {
      "cell_type": "markdown",
      "id": "db4a8c15",
      "metadata": {
        "id": "db4a8c15"
      },
      "source": [
        "> Não vemos significativa nesses valores de idade. Média muito próxima de idade, idade mínima é a mesma e a máxima estão próximas"
      ]
    },
    {
      "cell_type": "markdown",
      "id": "f4aaad30",
      "metadata": {
        "id": "f4aaad30"
      },
      "source": [
        "### Máximo e mínimo de limite de crédito relacionado com escolaridade, tipo de cartão e sexo\n"
      ]
    },
    {
      "cell_type": "markdown",
      "id": "f8b9d6af",
      "metadata": {
        "id": "f8b9d6af"
      },
      "source": [
        "<img src=\"https://github.com/heberrossi/Projeto-Final-SQL-EBAC/blob/main/projeto%20credito%20SQL/max%20limite%20por%20escolaridade,%20tipo%20cartao%20e%20sexo.PNG?raw=true\" alt=\"qtd linhas\" style=\"float: left; margin-right: 10px;\" />"
      ]
    },
    {
      "cell_type": "markdown",
      "id": "97ceed9e",
      "metadata": {
        "id": "97ceed9e"
      },
      "source": [
        "**Query**: select max(limite_credito) as limite_credito, escolaridade, tipo_cartao, sexo from credito where escolaridade != 'na' and tipo_cartao != 'na' group by escolaridade, tipo_cartao, sexo order by limite_credito desc limit 10"
      ]
    },
    {
      "cell_type": "markdown",
      "id": "ae75b46d",
      "metadata": {
        "id": "ae75b46d"
      },
      "source": [
        "> Escolaridade não parece ser uma influência no limite de crédito, por haver uma variedade de tipos e até pessoas sem educação. Vemos que também todos os tipos de cartões estão presentes, sem relação direta. Porém vemos uma proporção um pouco maior de homens."
      ]
    },
    {
      "cell_type": "markdown",
      "id": "fca32eda",
      "metadata": {
        "id": "fca32eda"
      },
      "source": [
        "<img src=\"https://github.com/heberrossi/Projeto-Final-SQL-EBAC/blob/main/projeto%20credito%20SQL/min%20limite%20por%20escolaridade,%20tipo%20cartao%20e%20sexo.PNG?raw=true\" alt=\"qtd linhas\" style=\"float: left; margin-right: 10px;\" />"
      ]
    },
    {
      "cell_type": "markdown",
      "id": "f2909816",
      "metadata": {
        "id": "f2909816"
      },
      "source": [
        "**Query**: select min(limite_credito) as limite_credito, escolaridade, tipo_cartao, sexo from credito where escolaridade != 'na' and tipo_cartao != 'na' group by escolaridade, tipo_cartao, sexo order by limite_credito asc"
      ]
    },
    {
      "cell_type": "markdown",
      "id": "1f5d6589",
      "metadata": {
        "id": "1f5d6589"
      },
      "source": [
        "> Mesma coisa com os limites máximos, porém vemos total dominância de cartões blue"
      ]
    },
    {
      "cell_type": "markdown",
      "id": "fa5418f2",
      "metadata": {
        "id": "fa5418f2"
      },
      "source": [
        "### Maior, menor e média de valor gasto por sexo e salário anual"
      ]
    },
    {
      "cell_type": "markdown",
      "id": "9dcf0421",
      "metadata": {
        "id": "9dcf0421"
      },
      "source": [
        "<img src=\"https://github.com/heberrossi/Projeto-Final-SQL-EBAC/blob/main/projeto%20credito%20SQL/maior%20menor%20e%20media%20de%20valor%20gasto%20por%20sexo%20e%20salario%20anual.PNG?raw=true\" alt=\"qtd linhas\" style=\"float: left; margin-right: 10px;\" />"
      ]
    },
    {
      "cell_type": "markdown",
      "id": "a8cf6c6e",
      "metadata": {
        "id": "a8cf6c6e"
      },
      "source": [
        "**Query**: select max(valor_transacoes_12m) as maior_valor_gasto, avg(valor_transacoes_12m) as media_valor_gasto, min(valor_transacoes_12m) as min_valor_gasto, sexo, salario_anual\n",
        "from credito\n",
        "where salario_anual != 'na'\n",
        "group by sexo, salario_anual\n",
        "order by avg(valor_transacoes_12m) desc"
      ]
    },
    {
      "cell_type": "markdown",
      "id": "7b57b0c2",
      "metadata": {
        "id": "7b57b0c2"
      },
      "source": [
        "> Salário anual e sexo não tem direta relação com valores de transações pelo período de 12 meses. A média de gasto é MENOR com quem tem salário maior que 120k, e maior com quem tem menos de 40k"
      ]
    },
    {
      "cell_type": "markdown",
      "id": "f2823e1b",
      "metadata": {
        "id": "f2823e1b"
      },
      "source": [
        "<img src=\"https://github.com/heberrossi/Projeto-Final-SQL-EBAC/blob/main/projeto%20credito%20SQL/maior%20menor%20e%20media%20de%20valor%20gasto%20por%20sexo%20e%20estado%20civil.PNG?raw=true\" alt=\"qtd linhas\" style=\"float: left; margin-right: 10px;\" />"
      ]
    },
    {
      "cell_type": "markdown",
      "id": "1882e3fd",
      "metadata": {
        "id": "1882e3fd"
      },
      "source": [
        "**QUery**: select max(valor_transacoes_12m) as maior_valor_gasto, avg(valor_transacoes_12m) as media_valor_gasto, min(valor_transacoes_12m) as min_valor_gasto, sexo, estado_civil\n",
        "from credito\n",
        "where estado_civil != 'na'\n",
        "group by sexo, estado_civil\n",
        "order by avg(valor_transacoes_12m) desc"
      ]
    },
    {
      "cell_type": "markdown",
      "id": "e28f647b",
      "metadata": {
        "id": "e28f647b"
      },
      "source": [
        "> Aqui talvez podemos ver algo pouco significativo na média de valor gasto comparado com solteiros e casados. Casado tem menos que solteiros, uma média de 300 a menos"
      ]
    },
    {
      "cell_type": "markdown",
      "id": "f6bf15cd",
      "metadata": {
        "id": "f6bf15cd"
      },
      "source": [
        "### Média de limite de crédito por sexo, escolaridade e salário anual"
      ]
    },
    {
      "cell_type": "markdown",
      "id": "6ecd1b8b",
      "metadata": {
        "id": "6ecd1b8b"
      },
      "source": [
        "<img src=\"https://github.com/heberrossi/Projeto-Final-SQL-EBAC/blob/main/projeto%20credito%20SQL/media%20limite%20de%20credito%20por%20sexo,%20escolaridade%20e%20salario%20anual.PNG?raw=true\" alt=\"qtd linhas\" style=\"float: left; margin-right: 10px;\" />"
      ]
    },
    {
      "cell_type": "markdown",
      "id": "aa96cec0",
      "metadata": {
        "id": "aa96cec0"
      },
      "source": [
        "**Query**: select avg(limite_credito) as media_limite_credito, escolaridade, sexo, salario_anual\n",
        "from credito\n",
        "where salario_anual != 'na' and escolaridade != 'na'\n",
        "group by sexo, escolaridade, salario_anual\n",
        "limit 15;"
      ]
    },
    {
      "cell_type": "markdown",
      "id": "6a63d71f",
      "metadata": {
        "id": "6a63d71f"
      },
      "source": [
        "> Podemos ver que nas maiores médias de limite de crédito, vemos uma predominância masculina, talvez uma análise mais profunda sobre esse caso seria interessante. É algo que poderia ser mudado? alguma estratégia da empresa pra ter mais mulheres?\n",
        "> Escolaridade não apresenta constância em nenhuma delas, e salario anual é de se esperar maiores limites pra salários maiores"
      ]
    },
    {
      "cell_type": "markdown",
      "id": "9ca80ccd",
      "metadata": {
        "id": "9ca80ccd"
      },
      "source": [
        "### Máximos valores de transação por salario anual, , limite de crédito e tipo de cartão"
      ]
    },
    {
      "cell_type": "markdown",
      "id": "63c38ab8",
      "metadata": {
        "id": "63c38ab8"
      },
      "source": [
        "<img src=\"https://github.com/heberrossi/Projeto-Final-SQL-EBAC/blob/main/projeto%20credito%20SQL/max%20valor%20de%20transa%C3%A7%C3%A3o%20por%20salario%20anual,%20limite%20credito%20e%20tipo%20cart%C3%A3o.PNG?raw=true\" alt=\"qtd linhas\" style=\"float: left; margin-right: 10px;\" />"
      ]
    },
    {
      "cell_type": "markdown",
      "id": "9352bea6",
      "metadata": {
        "id": "9352bea6"
      },
      "source": [
        "**Query**: select max(valor_transacoes_12m) as maior_valor_transacoes_12m, salario_anual, limite_credito, tipo_cartao\n",
        "from credito\n",
        "where salario_anual != 'na'\n",
        "group by salario_anual, tipo_cartao, limite_credito\n",
        "order by max(valor_transacoes_12m) desc\n",
        "limit 15"
      ]
    },
    {
      "cell_type": "markdown",
      "id": "be5ca2d7",
      "metadata": {
        "id": "be5ca2d7"
      },
      "source": [
        "> Aqui temos algo interessante a se pensar: Relacionado à análise anterior feita sobre a quantidade de cartão blue que tem, talvez uma ação para oferecer melhores cartões e melhores limites de crédito para essas pessoas que possuem maiores valores de transação. Observa-se que as 15 pessoas que mais gastam possuem cartão blue"
      ]
    },
    {
      "cell_type": "markdown",
      "id": "4b67a932",
      "metadata": {
        "id": "4b67a932"
      },
      "source": [
        "## Conclusão"
      ]
    },
    {
      "cell_type": "markdown",
      "id": "d863aea9",
      "metadata": {
        "id": "d863aea9"
      },
      "source": [
        "#### O que tiramos de insight de todos os dados observados até aqui:"
      ]
    },
    {
      "cell_type": "markdown",
      "id": "834744a0",
      "metadata": {
        "id": "834744a0"
      },
      "source": [
        "    * maior parte dos clientes possuem salário menor que 40k\n",
        "    * maioria dos clientes são cartão blue\n",
        "    * escolaridade não tem influência significativa nos dados\n",
        "    * os maiores limites de crédito são compostos por homens\n",
        "    * não existem mulheres que ganham acima de 60k por ano\n",
        "    * a faixa salarial impacta diretamente no limite de crédito\n",
        "    * existem muitos clientes com cartão blue que gastam valores altos e possuem média salarial alta\n",
        "      (propor ação de oferecer cartões com mais benefícios e limites\n",
        "    "
      ]
    },
    {
      "cell_type": "code",
      "execution_count": null,
      "id": "bbea5393",
      "metadata": {
        "id": "bbea5393"
      },
      "outputs": [],
      "source": []
    }
  ],
  "metadata": {
    "kernelspec": {
      "display_name": "Python 3 (ipykernel)",
      "language": "python",
      "name": "python3"
    },
    "language_info": {
      "codemirror_mode": {
        "name": "ipython",
        "version": 3
      },
      "file_extension": ".py",
      "mimetype": "text/x-python",
      "name": "python",
      "nbconvert_exporter": "python",
      "pygments_lexer": "ipython3",
      "version": "3.11.4"
    },
    "colab": {
      "provenance": []
    }
  },
  "nbformat": 4,
  "nbformat_minor": 5
}